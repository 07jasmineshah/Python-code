{
  "nbformat": 4,
  "nbformat_minor": 0,
  "metadata": {
    "colab": {
      "provenance": [],
      "authorship_tag": "ABX9TyOCzwXtIqk/EGCrEeECoIff",
      "include_colab_link": true
    },
    "kernelspec": {
      "name": "python3",
      "display_name": "Python 3"
    },
    "language_info": {
      "name": "python"
    }
  },
  "cells": [
    {
      "cell_type": "markdown",
      "metadata": {
        "id": "view-in-github",
        "colab_type": "text"
      },
      "source": [
        "<a href=\"https://colab.research.google.com/github/07jasmineshah/Python-code/blob/main/Lecture2_control_statement.ipynb\" target=\"_parent\"><img src=\"https://colab.research.google.com/assets/colab-badge.svg\" alt=\"Open In Colab\"/></a>"
      ]
    },
    {
      "cell_type": "code",
      "execution_count": 11,
      "metadata": {
        "colab": {
          "base_uri": "https://localhost:8080/"
        },
        "id": "9d8W-pCZi9X5",
        "outputId": "5c79e64b-a051-4a85-c2d0-7987b4ecdbb7"
      },
      "outputs": [
        {
          "output_type": "stream",
          "name": "stdout",
          "text": [
            "0\n",
            "1\n",
            "2\n",
            "3\n",
            "4\n",
            "5\n",
            "stop processing\n"
          ]
        }
      ],
      "source": [
        "for num in range(10):\n",
        " if num>5:\n",
        "  print(\"stop processing\")\n",
        "  break\n",
        " print(num)"
      ]
    },
    {
      "cell_type": "markdown",
      "source": [],
      "metadata": {
        "id": "WyUFzdCNldzQ"
      }
    },
    {
      "cell_type": "code",
      "source": [
        "for num in range(10):\n",
        "  if num%2!=0:\n",
        "   print(\"skip\");\n",
        "   continue\n",
        "  print(num);"
      ],
      "metadata": {
        "colab": {
          "base_uri": "https://localhost:8080/"
        },
        "id": "88cCKnwFmRAY",
        "outputId": "68824636-1c50-45dc-e140-dfde1934f0d5"
      },
      "execution_count": 19,
      "outputs": [
        {
          "output_type": "stream",
          "name": "stdout",
          "text": [
            "0\n",
            "skip\n",
            "2\n",
            "skip\n",
            "4\n",
            "skip\n",
            "6\n",
            "skip\n",
            "8\n",
            "skip\n"
          ]
        }
      ]
    },
    {
      "cell_type": "code",
      "source": [
        "course=input(\"enter course name\");\n",
        "if course==\"bscit\":\n",
        "   per=int(input(\"%\")) ;\n",
        "   sub=input(\"enter subject\")\n",
        "   if sub==\"maths\"and per>=50:\n",
        "      print(\"successful\")\n",
        "   else:\n",
        "      print(\"notsuccessful\")\n",
        "\n",
        "else:\n",
        "   print(\"enter valid course name\");"
      ],
      "metadata": {
        "colab": {
          "base_uri": "https://localhost:8080/"
        },
        "id": "-xlKYeBRoCzu",
        "outputId": "83034d27-f044-4256-bd67-853d7372c57c"
      },
      "execution_count": 39,
      "outputs": [
        {
          "output_type": "stream",
          "name": "stdout",
          "text": [
            "enter course namebscit\n",
            "%70\n",
            "enter subjectmaths\n",
            "successful\n"
          ]
        }
      ]
    }
  ]
}