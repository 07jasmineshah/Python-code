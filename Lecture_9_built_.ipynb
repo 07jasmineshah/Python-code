{
  "nbformat": 4,
  "nbformat_minor": 0,
  "metadata": {
    "colab": {
      "provenance": [],
      "authorship_tag": "ABX9TyPbfS5MN7HTaaDxSxEl4Ork",
      "include_colab_link": true
    },
    "kernelspec": {
      "name": "python3",
      "display_name": "Python 3"
    },
    "language_info": {
      "name": "python"
    }
  },
  "cells": [
    {
      "cell_type": "markdown",
      "metadata": {
        "id": "view-in-github",
        "colab_type": "text"
      },
      "source": [
        "<a href=\"https://colab.research.google.com/github/07jasmineshah/Python-code/blob/main/Lecture_9_built_.ipynb\" target=\"_parent\"><img src=\"https://colab.research.google.com/assets/colab-badge.svg\" alt=\"Open In Colab\"/></a>"
      ]
    },
    {
      "cell_type": "code",
      "execution_count": null,
      "metadata": {
        "colab": {
          "base_uri": "https://localhost:8080/"
        },
        "id": "ubEZZbZdF3ED",
        "outputId": "ba96534e-4453-4bcc-d8aa-3ea056dad310"
      },
      "outputs": [
        {
          "output_type": "stream",
          "name": "stdout",
          "text": [
            "[1, 2, 3, [40, 60, 50], 70, 80]\n"
          ]
        }
      ],
      "source": [
        "L1=[1, 2,3,[40, 50], 70,80]\n",
        "L1[3].insert(-1,60)\n",
        "print(L1)"
      ]
    },
    {
      "cell_type": "code",
      "source": [
        "list1=[10, 20,30]\n",
        "list2=[40, 50,60]\n",
        "print(list2*2)"
      ],
      "metadata": {
        "colab": {
          "base_uri": "https://localhost:8080/"
        },
        "id": "GR8qlSt0H4x7",
        "outputId": "bf530a4f-a915-4a87-bb33-04692955eee9"
      },
      "execution_count": null,
      "outputs": [
        {
          "output_type": "stream",
          "name": "stdout",
          "text": [
            "[40, 50, 60, 40, 50, 60]\n"
          ]
        }
      ]
    },
    {
      "cell_type": "code",
      "source": [
        "list1 =[10, 11, 12, 13, 14]\n",
        "list2 =[20, 30, 42]\n",
        "list3 =list1+list2\n",
        "print((list3))"
      ],
      "metadata": {
        "colab": {
          "base_uri": "https://localhost:8080/"
        },
        "id": "OuR5BpG0I6G4",
        "outputId": "c00a9aa0-cf36-4cea-c738-a7a8740ec0f0"
      },
      "execution_count": null,
      "outputs": [
        {
          "output_type": "stream",
          "name": "stdout",
          "text": [
            "[10, 11, 12, 13, 14, 20, 30, 42]\n"
          ]
        }
      ]
    },
    {
      "cell_type": "code",
      "source": [
        "list1 =[10, 11, 12, 13, 14]\n",
        "list2 =[20, 30, 42]\n",
        "print(min(list1))"
      ],
      "metadata": {
        "colab": {
          "base_uri": "https://localhost:8080/"
        },
        "id": "rGGVmQoRKjjR",
        "outputId": "531af35e-52bf-4921-add4-7033acd0f626"
      },
      "execution_count": null,
      "outputs": [
        {
          "output_type": "stream",
          "name": "stdout",
          "text": [
            "10\n"
          ]
        }
      ]
    },
    {
      "cell_type": "code",
      "source": [
        "L1=['A', 'B', 'A', 'B']\n",
        "print(min(L1))"
      ],
      "metadata": {
        "colab": {
          "base_uri": "https://localhost:8080/"
        },
        "id": "uERoVZ1xLQ98",
        "outputId": "89991f8e-8dbb-4815-ed52-e499617f8f29"
      },
      "execution_count": null,
      "outputs": [
        {
          "output_type": "stream",
          "name": "stdout",
          "text": [
            "A\n"
          ]
        }
      ]
    },
    {
      "cell_type": "code",
      "source": [
        "lang=['python', 'java', 'cpp', 'HTML']\n",
        "print(max(lang))"
      ],
      "metadata": {
        "colab": {
          "base_uri": "https://localhost:8080/"
        },
        "id": "xoFGZQNLL2QJ",
        "outputId": "2b19b9fa-c617-45ab-8987-7b209878ee0a"
      },
      "execution_count": null,
      "outputs": [
        {
          "output_type": "stream",
          "name": "stdout",
          "text": [
            "python\n"
          ]
        }
      ]
    },
    {
      "cell_type": "code",
      "source": [
        "T1=(10, 20,30,40)\n",
        "L1=list(T1)\n",
        "L1.append(60)\n",
        "T1=tuple(L1)\n",
        "print(T1)"
      ],
      "metadata": {
        "colab": {
          "base_uri": "https://localhost:8080/"
        },
        "id": "HvS0LjK3P1Nz",
        "outputId": "d6f65359-4ebe-4466-a255-6204c2ce6b7a"
      },
      "execution_count": null,
      "outputs": [
        {
          "output_type": "stream",
          "name": "stdout",
          "text": [
            "(10, 20, 30, 40, 60)\n"
          ]
        }
      ]
    },
    {
      "cell_type": "code",
      "source": [
        "L1=[10, 20,30,(50, 60), 80]\n",
        "L1[3].insert(2, 70)\n",
        "print(L1)"
      ],
      "metadata": {
        "colab": {
          "base_uri": "https://localhost:8080/",
          "height": 297
        },
        "id": "KbaYR1lMSq64",
        "outputId": "2270fcd2-6514-43b5-c396-fedb402c7332"
      },
      "execution_count": null,
      "outputs": [
        {
          "output_type": "error",
          "ename": "AttributeError",
          "evalue": "'tuple' object has no attribute 'insert'",
          "traceback": [
            "\u001b[0;31m---------------------------------------------------------------------------\u001b[0m",
            "\u001b[0;31mAttributeError\u001b[0m                            Traceback (most recent call last)",
            "\u001b[0;32m<ipython-input-37-5d59c343f399>\u001b[0m in \u001b[0;36m<cell line: 2>\u001b[0;34m()\u001b[0m\n\u001b[1;32m      1\u001b[0m \u001b[0mL1\u001b[0m\u001b[0;34m=\u001b[0m\u001b[0;34m[\u001b[0m\u001b[0;36m10\u001b[0m\u001b[0;34m,\u001b[0m \u001b[0;36m20\u001b[0m\u001b[0;34m,\u001b[0m\u001b[0;36m30\u001b[0m\u001b[0;34m,\u001b[0m\u001b[0;34m(\u001b[0m\u001b[0;36m50\u001b[0m\u001b[0;34m,\u001b[0m \u001b[0;36m60\u001b[0m\u001b[0;34m)\u001b[0m\u001b[0;34m,\u001b[0m \u001b[0;36m80\u001b[0m\u001b[0;34m]\u001b[0m\u001b[0;34m\u001b[0m\u001b[0;34m\u001b[0m\u001b[0m\n\u001b[0;32m----> 2\u001b[0;31m \u001b[0mL1\u001b[0m\u001b[0;34m[\u001b[0m\u001b[0;36m3\u001b[0m\u001b[0;34m]\u001b[0m\u001b[0;34m.\u001b[0m\u001b[0minsert\u001b[0m\u001b[0;34m(\u001b[0m\u001b[0;36m2\u001b[0m\u001b[0;34m,\u001b[0m \u001b[0;36m70\u001b[0m\u001b[0;34m)\u001b[0m\u001b[0;34m\u001b[0m\u001b[0;34m\u001b[0m\u001b[0m\n\u001b[0m\u001b[1;32m      3\u001b[0m \u001b[0mprint\u001b[0m\u001b[0;34m(\u001b[0m\u001b[0mL1\u001b[0m\u001b[0;34m)\u001b[0m\u001b[0;34m\u001b[0m\u001b[0;34m\u001b[0m\u001b[0m\n",
            "\u001b[0;31mAttributeError\u001b[0m: 'tuple' object has no attribute 'insert'"
          ]
        }
      ]
    },
    {
      "cell_type": "code",
      "source": [
        "L1=(10, 20,30,[50, 60], 80)\n",
        "L1[3].insert(2, 70)\n",
        "print(L1)"
      ],
      "metadata": {
        "colab": {
          "base_uri": "https://localhost:8080/"
        },
        "id": "nhUuiSSvRh8s",
        "outputId": "0e1c767e-592c-4acd-85ee-54ba63056322"
      },
      "execution_count": null,
      "outputs": [
        {
          "output_type": "stream",
          "name": "stdout",
          "text": [
            "(10, 20, 30, [50, 60, 70], 80)\n"
          ]
        }
      ]
    },
    {
      "cell_type": "code",
      "source": [
        "test=(10, 20,30,[50, 60,(70,80,'python')],100,101)\n",
        "print(test[3][2][-1][0::2])"
      ],
      "metadata": {
        "colab": {
          "base_uri": "https://localhost:8080/"
        },
        "id": "_cRs8ZWkS2ov",
        "outputId": "447d1c21-63cd-4ed0-c1e0-39f36ecf6bd6"
      },
      "execution_count": null,
      "outputs": [
        {
          "output_type": "stream",
          "name": "stdout",
          "text": [
            "pto\n"
          ]
        }
      ]
    }
  ]
}