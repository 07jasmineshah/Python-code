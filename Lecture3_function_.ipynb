{
  "nbformat": 4,
  "nbformat_minor": 0,
  "metadata": {
    "colab": {
      "provenance": [],
      "authorship_tag": "ABX9TyMOItgSDp/0XxTIE1Ht8ZVw",
      "include_colab_link": true
    },
    "kernelspec": {
      "name": "python3",
      "display_name": "Python 3"
    },
    "language_info": {
      "name": "python"
    }
  },
  "cells": [
    {
      "cell_type": "markdown",
      "metadata": {
        "id": "view-in-github",
        "colab_type": "text"
      },
      "source": [
        "<a href=\"https://colab.research.google.com/github/07jasmineshah/Python-code/blob/main/Lecture3_function_.ipynb\" target=\"_parent\"><img src=\"https://colab.research.google.com/assets/colab-badge.svg\" alt=\"Open In Colab\"/></a>"
      ]
    },
    {
      "cell_type": "code",
      "execution_count": 7,
      "metadata": {
        "colab": {
          "base_uri": "https://localhost:8080/"
        },
        "id": "qe2C0qsOvtIa",
        "outputId": "75213ab1-6bc5-447e-ff93-a05f6a111650"
      },
      "outputs": [
        {
          "output_type": "stream",
          "name": "stdout",
          "text": [
            "jasmine\n"
          ]
        }
      ],
      "source": [
        "def test() : #function\n",
        " print(\"jasmine\") #function call\n",
        "test()"
      ]
    },
    {
      "cell_type": "code",
      "source": [
        "def add(a, b) :\n",
        "  print(a+b)\n",
        "add(20, 30)"
      ],
      "metadata": {
        "colab": {
          "base_uri": "https://localhost:8080/"
        },
        "id": "lIAXoXjJwdGv",
        "outputId": "a456bced-d143-48a9-d264-a9a13cb193e8"
      },
      "execution_count": 10,
      "outputs": [
        {
          "output_type": "stream",
          "name": "stdout",
          "text": [
            "50\n"
          ]
        }
      ]
    },
    {
      "cell_type": "code",
      "source": [
        "def print_num(a) :\n",
        "  for num in range(a) :\n",
        "   print(num)\n",
        "print_num(10)"
      ],
      "metadata": {
        "colab": {
          "base_uri": "https://localhost:8080/"
        },
        "id": "DtiQ6BylxxYO",
        "outputId": "9bb3b50d-17dd-4ab9-cc0a-23502c202475"
      },
      "execution_count": 26,
      "outputs": [
        {
          "output_type": "stream",
          "name": "stdout",
          "text": [
            "0\n",
            "1\n",
            "2\n",
            "3\n",
            "4\n",
            "5\n",
            "6\n",
            "7\n",
            "8\n",
            "9\n"
          ]
        }
      ]
    },
    {
      "cell_type": "code",
      "source": [
        "def admission_process():\n",
        " course=input(\"enter course name\");\n",
        " if course==\"bscit\":\n",
        "   per=int(input(\"%\")) ;\n",
        "   sub=input(\"enter subject\")\n",
        "   if sub==\"maths\"and per>=50:\n",
        "      print(\"successful\")\n",
        "   else:\n",
        "      print(\"notsuccessful\")\n",
        "\n",
        " else:\n",
        "  print(\"enter valid course name\");\n",
        "admission_process()"
      ],
      "metadata": {
        "colab": {
          "base_uri": "https://localhost:8080/"
        },
        "id": "6ZPJdUNH1lYM",
        "outputId": "15666c54-532b-4cf8-869d-487c8b6c5b86"
      },
      "execution_count": 31,
      "outputs": [
        {
          "output_type": "stream",
          "name": "stdout",
          "text": [
            "enter course namebscit\n",
            "%60\n",
            "enter subjectmaths\n",
            "successful\n"
          ]
        }
      ]
    }
  ]
}