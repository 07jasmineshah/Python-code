{
  "nbformat": 4,
  "nbformat_minor": 0,
  "metadata": {
    "colab": {
      "provenance": [],
      "authorship_tag": "ABX9TyOZjLzKdX5V2TUixMArtrqN",
      "include_colab_link": true
    },
    "kernelspec": {
      "name": "python3",
      "display_name": "Python 3"
    },
    "language_info": {
      "name": "python"
    }
  },
  "cells": [
    {
      "cell_type": "markdown",
      "metadata": {
        "id": "view-in-github",
        "colab_type": "text"
      },
      "source": [
        "<a href=\"https://colab.research.google.com/github/07jasmineshah/Python-code/blob/main/lecture7_string_method_.ipynb\" target=\"_parent\"><img src=\"https://colab.research.google.com/assets/colab-badge.svg\" alt=\"Open In Colab\"/></a>"
      ]
    },
    {
      "cell_type": "code",
      "execution_count": null,
      "metadata": {
        "colab": {
          "base_uri": "https://localhost:8080/"
        },
        "id": "qobojhTh-R6w",
        "outputId": "e26dd0b9-e169-4ad7-aaec-2b063c1cd288"
      },
      "outputs": [
        {
          "output_type": "stream",
          "name": "stdout",
          "text": [
            "enter your username:shah\n",
            "enter your password:jasmin\n",
            "login\n"
          ]
        }
      ],
      "source": [
        "username=\"jasmin\"\n",
        "passwords=\"shah\"\n",
        "def login():\n",
        "  uname=input(\"enter your username:\");\n",
        "  pwd=input(\"enter your password:\");\n",
        "  if(\"username==uname & password==pwd\"):\n",
        "   print(\"login\");\n",
        "  else:\n",
        "     print(\"invalid password\");\n",
        "\n",
        "login()"
      ]
    },
    {
      "cell_type": "code",
      "source": [
        "username = \"jasmin\"\n",
        "passwd = \"12345678\"\n",
        "\n",
        "def login():\n",
        "    password = input(\"password sholud be 8 cha long...\")\n",
        "    a = len(password)\n",
        "    if a >= 8:\n",
        "        uname = input(\"enter ur username...\")\n",
        "        if (uname == username and passwd == password):\n",
        "            print(\"login success\")\n",
        "        else:\n",
        "            print(\"inalid\")\n",
        "    else:\n",
        "        print(\"invalid password length..\")\n",
        "\n",
        "login()"
      ],
      "metadata": {
        "colab": {
          "base_uri": "https://localhost:8080/"
        },
        "id": "YCEqhAT2EnEm",
        "outputId": "1cb962f1-004c-40ec-8a0e-b20356099184"
      },
      "execution_count": 1,
      "outputs": [
        {
          "output_type": "stream",
          "name": "stdout",
          "text": [
            "password sholud be 8 cha long...12345678\n",
            "enter ur username...Jasmin\n",
            "inalid\n"
          ]
        }
      ]
    },
    {
      "cell_type": "markdown",
      "source": [],
      "metadata": {
        "id": "CGgvt5I6Gv-d"
      }
    },
    {
      "cell_type": "code",
      "source": [
        "a = \"HELLO WORLD\"\n",
        "#a = a.upper();\n",
        "#a = a.lower();\n",
        "print(\"hello\" not in a) # True\n",
        "#print('at' not in 'battle') # False"
      ],
      "metadata": {
        "colab": {
          "base_uri": "https://localhost:8080/"
        },
        "id": "8IW97hktG5XV",
        "outputId": "c9ce7149-3764-4f11-8c9c-567b08524e39"
      },
      "execution_count": null,
      "outputs": [
        {
          "output_type": "stream",
          "name": "stdout",
          "text": [
            "True\n"
          ]
        }
      ]
    },
    {
      "cell_type": "code",
      "source": [
        "string = \"Python is fun\"\n",
        "\n",
        "# 'is' separator is found\n",
        "print(string.partition('is '))\n",
        "\n",
        "# 'not' separator is not found\n",
        "print(string.partition('not '))\n",
        "\n",
        "string = \"Python is fun, isn't it\"\n",
        "\n",
        "# splits at first occurence of 'is'\n",
        "print(string.partition('is'))"
      ],
      "metadata": {
        "colab": {
          "base_uri": "https://localhost:8080/"
        },
        "id": "Tp19oYTCI2F1",
        "outputId": "08544f96-302e-4b64-d0c2-30caac7fe15f"
      },
      "execution_count": null,
      "outputs": [
        {
          "output_type": "stream",
          "name": "stdout",
          "text": [
            "('Python ', 'is ', 'fun')\n",
            "('Python is fun', '', '')\n",
            "('Python ', 'is', \" fun, isn't it\")\n"
          ]
        }
      ]
    },
    {
      "cell_type": "code",
      "source": [
        "message = 'Python fun is a fun programming fun language'\n",
        "\n",
        "# check the index of 'fun'\n",
        "print(message.rfind('fun'))"
      ],
      "metadata": {
        "colab": {
          "base_uri": "https://localhost:8080/"
        },
        "id": "2VsKYPEzNiPu",
        "outputId": "24e49427-7970-4c56-9859-a2563d110e5c"
      },
      "execution_count": null,
      "outputs": [
        {
          "output_type": "stream",
          "name": "stdout",
          "text": [
            "32\n"
          ]
        }
      ]
    },
    {
      "cell_type": "code",
      "source": [
        "title = '         Python     test          '\n",
        "\n",
        "# remove trailing whitespace from title\n",
        "print(title)\n",
        "result = title.strip() # strip blanckspace from both sides\n",
        "result1 = title.lstrip()\n",
        "result2 = title.rstrip()\n",
        "print(\"only strip func\",result)\n",
        "print(\"only lstrip func\",result1)\n",
        "print(\"only rstrip func\",result2)\n",
        "\n",
        "# Output: Python Programming\n",
        "\n",
        "text = '      Python     is     fun        '\n",
        "\n",
        "# split the text from space\n",
        "print(text.split())"
      ],
      "metadata": {
        "colab": {
          "base_uri": "https://localhost:8080/"
        },
        "id": "xmGyqjaoN8oX",
        "outputId": "271d1694-45a8-4d6a-fb4b-cf0bdf43de33"
      },
      "execution_count": null,
      "outputs": [
        {
          "output_type": "stream",
          "name": "stdout",
          "text": [
            "         Python     test          \n",
            "only strip func Python     test\n",
            "only lstrip func Python     test          \n",
            "only rstrip func          Python     test\n",
            "['Python', 'is', 'fun']\n"
          ]
        }
      ]
    },
    {
      "cell_type": "code",
      "source": [
        "song = 'cold, cold heart'\n",
        "\n",
        "# replacing 'cold' with 'hurt'\n",
        "print(song.replace('cold', 'hurt'))\n",
        "\n",
        "song = 'Let it be, let it be, let it be, let it be'\n",
        "\n",
        "# replacing only two occurrences of 'let'\n",
        "print(song.replace('let', \"don't let\",10000000))"
      ],
      "metadata": {
        "colab": {
          "base_uri": "https://localhost:8080/"
        },
        "id": "NpnNwapbJ8M9",
        "outputId": "ff799c81-6741-4c94-d85e-7a1c081a4bc4"
      },
      "execution_count": null,
      "outputs": [
        {
          "output_type": "stream",
          "name": "stdout",
          "text": [
            "hurt, hurt heart\n",
            "Let it be, don't let it be, don't let it be, don't let it be\n"
          ]
        }
      ]
    },
    {
      "cell_type": "code",
      "source": [
        "name=input(\"enter five names separated by spaces: \")\n",
        "sname=name.split()\n",
        "sorted=sorted(sname)\n",
        "print(\"names:\",sorted)"
      ],
      "metadata": {
        "id": "LrDJgTjPO3LN",
        "colab": {
          "base_uri": "https://localhost:8080/"
        },
        "outputId": "cb2c434a-f025-44cf-e92e-149ea7a42228"
      },
      "execution_count": 2,
      "outputs": [
        {
          "output_type": "stream",
          "name": "stdout",
          "text": [
            "enter five names separated by spaces: Jasmin iqra sapna yasmin pooja\n",
            "names: ['Jasmin', 'iqra', 'pooja', 'sapna', 'yasmin']\n"
          ]
        }
      ]
    },
    {
      "cell_type": "code",
      "source": [
        "username=\"shah\";\n",
        "password=\"jasmine\";\n",
        "firstname=input(\"Enter your first name:\");\n",
        "lastname=input(\"Enter your last name:\");\n",
        "email=input(\"enter your email.id:\");"
      ],
      "metadata": {
        "id": "KVZI8oq_VApG",
        "colab": {
          "base_uri": "https://localhost:8080/"
        },
        "outputId": "c983e316-d2a9-42d6-94df-a564f5317865"
      },
      "execution_count": 3,
      "outputs": [
        {
          "name": "stdout",
          "output_type": "stream",
          "text": [
            "Enter your first name:Shah\n",
            "Enter your last name:Jasmin\n",
            "enter your email.id:31jamine07@gmail.com\n"
          ]
        }
      ]
    }
  ]
}