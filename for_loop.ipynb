{
  "nbformat": 4,
  "nbformat_minor": 0,
  "metadata": {
    "colab": {
      "provenance": [],
      "authorship_tag": "ABX9TyOs0HHi+zwB+0sjvGeBY1/y",
      "include_colab_link": true
    },
    "kernelspec": {
      "name": "python3",
      "display_name": "Python 3"
    },
    "language_info": {
      "name": "python"
    }
  },
  "cells": [
    {
      "cell_type": "markdown",
      "metadata": {
        "id": "view-in-github",
        "colab_type": "text"
      },
      "source": [
        "<a href=\"https://colab.research.google.com/github/07jasmineshah/Python-code/blob/main/for_loop.ipynb\" target=\"_parent\"><img src=\"https://colab.research.google.com/assets/colab-badge.svg\" alt=\"Open In Colab\"/></a>"
      ]
    },
    {
      "cell_type": "code",
      "execution_count": 8,
      "metadata": {
        "colab": {
          "base_uri": "https://localhost:8080/"
        },
        "id": "4hll8uS_yb_V",
        "outputId": "2e6e3a6b-a9fa-4de3-b2be-a8b4965fa404"
      },
      "outputs": [
        {
          "output_type": "stream",
          "name": "stdout",
          "text": [
            "0\n",
            "end\n",
            "1\n",
            "end\n",
            "2\n",
            "end\n",
            "3\n",
            "end\n",
            "4\n",
            "end\n",
            "5\n",
            "end\n",
            "6\n",
            "end\n",
            "7\n",
            "end\n",
            "8\n"
          ]
        }
      ],
      "source": [
        "for i in range(10):\n",
        "  print(i)\n",
        "  if(i==8):\n",
        "    break\n",
        "  else:\n",
        "    print(\"end\")\n",
        ""
      ]
    }
  ]
}