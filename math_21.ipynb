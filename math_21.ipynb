{
  "nbformat": 4,
  "nbformat_minor": 0,
  "metadata": {
    "colab": {
      "provenance": [],
      "authorship_tag": "ABX9TyNaeaAIfd7505MmGCpzJjPz",
      "include_colab_link": true
    },
    "kernelspec": {
      "name": "python3",
      "display_name": "Python 3"
    },
    "language_info": {
      "name": "python"
    }
  },
  "cells": [
    {
      "cell_type": "markdown",
      "metadata": {
        "id": "view-in-github",
        "colab_type": "text"
      },
      "source": [
        "<a href=\"https://colab.research.google.com/github/07jasmineshah/Python-code/blob/main/math_21.ipynb\" target=\"_parent\"><img src=\"https://colab.research.google.com/assets/colab-badge.svg\" alt=\"Open In Colab\"/></a>"
      ]
    },
    {
      "cell_type": "code",
      "execution_count": null,
      "metadata": {
        "colab": {
          "base_uri": "https://localhost:8080/"
        },
        "id": "1P5229CctyPr",
        "outputId": "81e76b30-0297-4bc6-c456-74c3e8757471"
      },
      "outputs": [
        {
          "output_type": "stream",
          "name": "stdout",
          "text": [
            "[3, 4, 5, 6]\n"
          ]
        }
      ],
      "source": [
        "a, b, *c,d={1, 2, 3,4,5,6,7}\n",
        "print(c)"
      ]
    },
    {
      "cell_type": "code",
      "source": [
        "x=(i for i in range(3))\n",
        "for i in x:\n",
        " print(i)\n",
        "for i in x:\n",
        " print (i)"
      ],
      "metadata": {
        "colab": {
          "base_uri": "https://localhost:8080/"
        },
        "id": "GeeqCt4ZuaNJ",
        "outputId": "232b6920-894f-4f7c-e7e2-32f7066964d7"
      },
      "execution_count": null,
      "outputs": [
        {
          "output_type": "stream",
          "name": "stdout",
          "text": [
            "0\n",
            "1\n",
            "2\n"
          ]
        }
      ]
    },
    {
      "cell_type": "code",
      "source": [
        "l2=['d', 'e', 'f']\n",
        "l1=[\"a\", \"b\", \" C\"]\n",
        "l3=l1+l2\n",
        "print(l3)\n",
        "print(l3.append(20))"
      ],
      "metadata": {
        "colab": {
          "base_uri": "https://localhost:8080/"
        },
        "id": "5ZHbOsbhv-pS",
        "outputId": "4c751b39-93e5-4002-8ae6-0ee650d619e3"
      },
      "execution_count": null,
      "outputs": [
        {
          "output_type": "stream",
          "name": "stdout",
          "text": [
            "['a', 'b', ' C', 'd', 'e', 'f']\n",
            "None\n"
          ]
        }
      ]
    },
    {
      "cell_type": "code",
      "source": [
        "l1=['d', 'e', 'f']\n",
        "(l1.append(20))\n",
        "print(l1)"
      ],
      "metadata": {
        "colab": {
          "base_uri": "https://localhost:8080/"
        },
        "id": "H692g-nQxPLC",
        "outputId": "e707abfb-7a87-4b97-81a3-ce3bacb5f9d2"
      },
      "execution_count": null,
      "outputs": [
        {
          "output_type": "stream",
          "name": "stdout",
          "text": [
            "['d', 'e', 'f', 20]\n"
          ]
        }
      ]
    },
    {
      "cell_type": "code",
      "source": [
        "l1=[1, 2,3]\n",
        "l2=[4, 5,6]\n",
        "l1.append(l2)\n",
        "l2.extend(l2)\n",
        "print(l2)"
      ],
      "metadata": {
        "colab": {
          "base_uri": "https://localhost:8080/"
        },
        "id": "zbm3RqsGx3xv",
        "outputId": "237b343a-5e1a-4640-878b-6442bc4e36ea"
      },
      "execution_count": null,
      "outputs": [
        {
          "output_type": "stream",
          "name": "stdout",
          "text": [
            "[4, 5, 6, 4, 5, 6]\n"
          ]
        }
      ]
    },
    {
      "cell_type": "code",
      "source": [
        "l1=[1, 2,3]\n",
        "l2=[4, 5,6]\n",
        "l1.append(l2)\n",
        "print(l1)"
      ],
      "metadata": {
        "colab": {
          "base_uri": "https://localhost:8080/"
        },
        "id": "kO3DbnELyeat",
        "outputId": "40a61d3a-ad47-474d-bfed-3aa5e168527c"
      },
      "execution_count": null,
      "outputs": [
        {
          "output_type": "stream",
          "name": "stdout",
          "text": [
            "[1, 2, 3, [4, 5, 6]]\n"
          ]
        }
      ]
    },
    {
      "cell_type": "code",
      "source": [
        "l1=[1, 2,3]\n",
        "l2=[4, 5,6]\n",
        "l1. append(\"python\")\n",
        "\n",
        "print(l1)"
      ],
      "metadata": {
        "colab": {
          "base_uri": "https://localhost:8080/"
        },
        "id": "R4WwGkSkytv-",
        "outputId": "98819c2a-d1cc-47f5-e6a6-5368472421d5"
      },
      "execution_count": null,
      "outputs": [
        {
          "output_type": "stream",
          "name": "stdout",
          "text": [
            "[1, 2, 3, 'python']\n"
          ]
        }
      ]
    },
    {
      "cell_type": "code",
      "source": [
        "L1=[1, 2,3,[4, 5,6], \"python\"]\n",
        "print(L1[0])\n",
        "print(L1[3][1])\n",
        "print(L1[-1][1:])"
      ],
      "metadata": {
        "colab": {
          "base_uri": "https://localhost:8080/"
        },
        "id": "GYJvh07a1Vrd",
        "outputId": "c14392d5-40b9-4727-efc4-99f28cf72b47"
      },
      "execution_count": null,
      "outputs": [
        {
          "output_type": "stream",
          "name": "stdout",
          "text": [
            "1\n",
            "5\n",
            "ython\n"
          ]
        }
      ]
    },
    {
      "cell_type": "code",
      "source": [
        "L1=[1, 2,3,[4, 5,\"python\"]]\n",
        "L1[-1].append(\" program\")\n",
        "print(L1)"
      ],
      "metadata": {
        "colab": {
          "base_uri": "https://localhost:8080/"
        },
        "id": "uFPuEzCg4kCJ",
        "outputId": "71825568-9688-46e6-c106-c777449d1662"
      },
      "execution_count": null,
      "outputs": [
        {
          "output_type": "stream",
          "name": "stdout",
          "text": [
            "[1, 2, 3, [4, 5, 'python', ' program']]\n"
          ]
        }
      ]
    },
    {
      "cell_type": "code",
      "source": [
        "L1=[1, 2,3,[30, 20,50]]\n",
        "L1[-1].sort()\n",
        "print(L1)\n",
        "L2=[\"x\", \"y\", \"a\", \"f\", \"h\"]\n",
        "L2.sort()\n",
        "L2.reverse()\n",
        "print(L2)"
      ],
      "metadata": {
        "colab": {
          "base_uri": "https://localhost:8080/"
        },
        "id": "4Ul8R33i6SL4",
        "outputId": "7c628219-8a81-425a-d666-6aca6890e923"
      },
      "execution_count": null,
      "outputs": [
        {
          "output_type": "stream",
          "name": "stdout",
          "text": [
            "[1, 2, 3, [20, 30, 50]]\n",
            "['y', 'x', 'h', 'f', 'a']\n"
          ]
        }
      ]
    },
    {
      "cell_type": "code",
      "source": [],
      "metadata": {
        "id": "yuNVb9849wB0"
      },
      "execution_count": null,
      "outputs": []
    },
    {
      "cell_type": "code",
      "source": [
        "L2=[\"x\", \"y\", \"a\", \"f\", \"h\"]\n",
        "L2.sort()\n",
        "L2.insert(2,\"w\")\n",
        "print(L2)"
      ],
      "metadata": {
        "colab": {
          "base_uri": "https://localhost:8080/"
        },
        "id": "QELyS3_b8OlL",
        "outputId": "d157c378-1192-4e66-bfef-ea19c9b9edcf"
      },
      "execution_count": null,
      "outputs": [
        {
          "output_type": "stream",
          "name": "stdout",
          "text": [
            "['a', 'f', 'w', 'h', 'x', 'y']\n"
          ]
        }
      ]
    },
    {
      "cell_type": "code",
      "source": [
        "L1=[10, 20,30,[50, 60,[\"python\",\"program\"]]]\n",
        "print((L1[-1][-1][0]),(L1[-1][-1][1]))"
      ],
      "metadata": {
        "colab": {
          "base_uri": "https://localhost:8080/"
        },
        "id": "2cuT6NTJ83kG",
        "outputId": "3248e17a-f954-4848-c0d7-a1c2873ef746"
      },
      "execution_count": null,
      "outputs": [
        {
          "output_type": "stream",
          "name": "stdout",
          "text": [
            "python program\n"
          ]
        }
      ]
    },
    {
      "cell_type": "code",
      "source": [
        "import math\n",
        "L1=[10, 20,30,[50, 60,[100, 200]]]\n",
        "print(math.sqrt(L1[-1][-1][0]))"
      ],
      "metadata": {
        "colab": {
          "base_uri": "https://localhost:8080/"
        },
        "id": "EeLrqe4V_1_i",
        "outputId": "da812b95-55bf-44cb-87be-a03e873ccfd2"
      },
      "execution_count": null,
      "outputs": [
        {
          "output_type": "stream",
          "name": "stdout",
          "text": [
            "10.0\n"
          ]
        }
      ]
    }
  ]
}