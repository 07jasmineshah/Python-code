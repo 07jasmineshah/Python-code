{
  "nbformat": 4,
  "nbformat_minor": 0,
  "metadata": {
    "colab": {
      "provenance": [],
      "authorship_tag": "ABX9TyNXztx368f4gxjG/VnpPG/L",
      "include_colab_link": true
    },
    "kernelspec": {
      "name": "python3",
      "display_name": "Python 3"
    },
    "language_info": {
      "name": "python"
    }
  },
  "cells": [
    {
      "cell_type": "markdown",
      "metadata": {
        "id": "view-in-github",
        "colab_type": "text"
      },
      "source": [
        "<a href=\"https://colab.research.google.com/github/07jasmineshah/Python-code/blob/main/Lecture6string_13_07_2005.ipynb\" target=\"_parent\"><img src=\"https://colab.research.google.com/assets/colab-badge.svg\" alt=\"Open In Colab\"/></a>"
      ]
    },
    {
      "cell_type": "code",
      "execution_count": null,
      "metadata": {
        "colab": {
          "base_uri": "https://localhost:8080/"
        },
        "id": "xV1hgqzB_hcA",
        "outputId": "97037221-5903-4188-ae00-2e77a3eb996e"
      },
      "outputs": [
        {
          "output_type": "stream",
          "name": "stdout",
          "text": [
            "enter  the firstShah\n",
            "enter the second nameJasmin\n",
            "enter your third nameIqbal\n",
            " enter gmail id31jasmin07@gmail.com\n",
            "31jasmin07@gmail.com\n"
          ]
        }
      ],
      "source": [
        "first_name=input(\"enter  the first\");\n",
        "second_name=input(\"enter the second name\");\n",
        "last_name=input(\"enter your third name\");\n",
        "\" \".join([first_name,second_name,last_name])\n",
        "gmail=input(\" enter gmail id\");\n",
        "if(gmail.endswith(\"com\")):\n",
        "  print(gmail);\n",
        "elif(gmail.endswith(\"org\")):\n",
        "  print(gmail);\n",
        "elif(gmail.endswith(\"in\")) :\n",
        "  print(gmail);\n",
        "else:\n",
        "  print(\"invalid \");"
      ]
    },
    {
      "cell_type": "code",
      "source": [
        " fullname =input(\"enter fullname:\");\n",
        " Fullname=fullname.lower()\n",
        " a=Fullname[0:4];\n",
        " dob=input(\"Dod-(dd/mm/yyyy):\");\n",
        " b=dob[0:4];\n",
        " password=a+b\n",
        " print(\"password:\",password);"
      ],
      "metadata": {
        "id": "TSUwE2GAM8rS",
        "colab": {
          "base_uri": "https://localhost:8080/"
        },
        "outputId": "3a0d5ff3-b678-4756-a439-5702c3870b39"
      },
      "execution_count": 22,
      "outputs": [
        {
          "output_type": "stream",
          "name": "stdout",
          "text": [
            "enter fullname:Jasmine\n",
            "Dod-(dd/mm/yyyy):31072005\n",
            "password: jasm3107\n"
          ]
        }
      ]
    }
  ]
}