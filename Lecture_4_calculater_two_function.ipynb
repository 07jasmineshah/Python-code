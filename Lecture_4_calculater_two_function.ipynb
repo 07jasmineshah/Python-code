{
  "nbformat": 4,
  "nbformat_minor": 0,
  "metadata": {
    "colab": {
      "provenance": [],
      "authorship_tag": "ABX9TyM3VMqeG7yRAqbcO7YiM4hK",
      "include_colab_link": true
    },
    "kernelspec": {
      "name": "python3",
      "display_name": "Python 3"
    },
    "language_info": {
      "name": "python"
    }
  },
  "cells": [
    {
      "cell_type": "markdown",
      "metadata": {
        "id": "view-in-github",
        "colab_type": "text"
      },
      "source": [
        "<a href=\"https://colab.research.google.com/github/07jasmineshah/Python-code/blob/main/Lecture_4_calculater_two_function.ipynb\" target=\"_parent\"><img src=\"https://colab.research.google.com/assets/colab-badge.svg\" alt=\"Open In Colab\"/></a>"
      ]
    },
    {
      "cell_type": "code",
      "execution_count": null,
      "metadata": {
        "colab": {
          "base_uri": "https://localhost:8080/"
        },
        "id": "wwbN7-qXP20m",
        "outputId": "fdf0dcb4-09b6-4c10-c5fc-082a8dc73b25"
      },
      "outputs": [
        {
          "output_type": "stream",
          "name": "stdout",
          "text": [
            "enter number 1:add, 2:sub, 3:mul, 4:div3\n",
            "13\n",
            "23\n",
            "9\n"
          ]
        }
      ],
      "source": [
        "def add(a,b) :\n",
        "  return a+b;\n",
        "def sub(a,b) :\n",
        "  return a-b;\n",
        "def mul(a,b) :\n",
        "  return a*b;\n",
        "def div(a,b) :\n",
        "  return a/b;\n",
        "\n",
        "c=int(input('''enter number 1:add, 2:sub, 3:mul, 4:div'''));\n",
        "no1=int(input(\"1\"));\n",
        "no2=int(input(\"2\"));\n",
        "\n",
        "if c==1:\n",
        "  res=add(no1, no2)\n",
        "  print(res);\n",
        "elif c==2:\n",
        "  res=sub(no1, no2)\n",
        "  print(res);\n",
        "elif c==3:\n",
        "  res=mul(no1, no2)\n",
        "  print(res);\n",
        "elif c==4:\n",
        "  res=div(no1, no2)\n",
        "  Print(res);\n",
        "else:\n",
        "  print(\"enter c invalid\");"
      ]
    },
    {
      "cell_type": "code",
      "source": [
        "def max(a, b):\n",
        "  if a>b:\n",
        "    print(a)\n",
        "  else:\n",
        "    print(b)\n",
        "\n",
        "x,y,z=10, 20,30\n",
        "max(x, max(y,z))"
      ],
      "metadata": {
        "colab": {
          "base_uri": "https://localhost:8080/",
          "height": 454
        },
        "id": "aUBgJCWMc--H",
        "outputId": "66a91137-d7d6-4ed0-cf4b-25ae6d3db615"
      },
      "execution_count": null,
      "outputs": [
        {
          "output_type": "stream",
          "name": "stdout",
          "text": [
            "30\n"
          ]
        },
        {
          "output_type": "error",
          "ename": "TypeError",
          "evalue": "'>' not supported between instances of 'int' and 'NoneType'",
          "traceback": [
            "\u001b[0;31m---------------------------------------------------------------------------\u001b[0m",
            "\u001b[0;31mTypeError\u001b[0m                                 Traceback (most recent call last)",
            "\u001b[0;32m<ipython-input-42-a7694f858dbd>\u001b[0m in \u001b[0;36m<cell line: 8>\u001b[0;34m()\u001b[0m\n\u001b[1;32m      6\u001b[0m \u001b[0;34m\u001b[0m\u001b[0m\n\u001b[1;32m      7\u001b[0m \u001b[0mx\u001b[0m\u001b[0;34m,\u001b[0m\u001b[0my\u001b[0m\u001b[0;34m,\u001b[0m\u001b[0mz\u001b[0m\u001b[0;34m=\u001b[0m\u001b[0;36m10\u001b[0m\u001b[0;34m,\u001b[0m \u001b[0;36m20\u001b[0m\u001b[0;34m,\u001b[0m\u001b[0;36m30\u001b[0m\u001b[0;34m\u001b[0m\u001b[0;34m\u001b[0m\u001b[0m\n\u001b[0;32m----> 8\u001b[0;31m \u001b[0mmax\u001b[0m\u001b[0;34m(\u001b[0m\u001b[0mx\u001b[0m\u001b[0;34m,\u001b[0m \u001b[0mmax\u001b[0m\u001b[0;34m(\u001b[0m\u001b[0my\u001b[0m\u001b[0;34m,\u001b[0m\u001b[0mz\u001b[0m\u001b[0;34m)\u001b[0m\u001b[0;34m)\u001b[0m\u001b[0;34m\u001b[0m\u001b[0;34m\u001b[0m\u001b[0m\n\u001b[0m",
            "\u001b[0;32m<ipython-input-42-a7694f858dbd>\u001b[0m in \u001b[0;36mmax\u001b[0;34m(a, b)\u001b[0m\n\u001b[1;32m      1\u001b[0m \u001b[0;32mdef\u001b[0m \u001b[0mmax\u001b[0m\u001b[0;34m(\u001b[0m\u001b[0ma\u001b[0m\u001b[0;34m,\u001b[0m \u001b[0mb\u001b[0m\u001b[0;34m)\u001b[0m\u001b[0;34m:\u001b[0m\u001b[0;34m\u001b[0m\u001b[0;34m\u001b[0m\u001b[0m\n\u001b[0;32m----> 2\u001b[0;31m   \u001b[0;32mif\u001b[0m \u001b[0ma\u001b[0m\u001b[0;34m>\u001b[0m\u001b[0mb\u001b[0m\u001b[0;34m:\u001b[0m\u001b[0;34m\u001b[0m\u001b[0;34m\u001b[0m\u001b[0m\n\u001b[0m\u001b[1;32m      3\u001b[0m     \u001b[0mprint\u001b[0m\u001b[0;34m(\u001b[0m\u001b[0ma\u001b[0m\u001b[0;34m)\u001b[0m\u001b[0;34m\u001b[0m\u001b[0;34m\u001b[0m\u001b[0m\n\u001b[1;32m      4\u001b[0m   \u001b[0;32melse\u001b[0m\u001b[0;34m:\u001b[0m\u001b[0;34m\u001b[0m\u001b[0;34m\u001b[0m\u001b[0m\n\u001b[1;32m      5\u001b[0m     \u001b[0mprint\u001b[0m\u001b[0;34m(\u001b[0m\u001b[0mb\u001b[0m\u001b[0;34m)\u001b[0m\u001b[0;34m\u001b[0m\u001b[0;34m\u001b[0m\u001b[0m\n",
            "\u001b[0;31mTypeError\u001b[0m: '>' not supported between instances of 'int' and 'NoneType'"
          ]
        }
      ]
    },
    {
      "cell_type": "code",
      "source": [
        "def add(a,b) :\n",
        "  return a+b;\n",
        "def sub(a,b) :\n",
        "  return a-b;\n",
        "def mul(a,b) :\n",
        "  return a*b;\n",
        "def div(a,b) :\n",
        "  return a/b;\n",
        "\n",
        "c=int(input('''enter number 1:add, 2:sub, 3:mul, 4:div'''));\n",
        "no1, no2, no3=10, 20,30\n",
        "\n",
        "if c==1:\n",
        " print(add(no1, add(no2, no3)))\n",
        "elif c==2:\n",
        " print(sub(no3, sub(no2, no1)))\n",
        "elif c==3:\n",
        " print(mul(no1, mul(no2, no3)))\n",
        "elif c==4:\n",
        " print(div(no1, div(no2, no3)))\n",
        "else:\n",
        " Print(\"enter invalid \")"
      ],
      "metadata": {
        "colab": {
          "base_uri": "https://localhost:8080/"
        },
        "id": "510itxiEhPKc",
        "outputId": "c2739416-c393-4ba7-ac01-7fc384c94cc7"
      },
      "execution_count": null,
      "outputs": [
        {
          "output_type": "stream",
          "name": "stdout",
          "text": [
            "enter number 1:add, 2:sub, 3:mul, 4:div2\n",
            "20\n"
          ]
        }
      ]
    }
  ]
}